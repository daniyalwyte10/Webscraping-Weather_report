{
 "cells": [
  {
   "cell_type": "code",
   "execution_count": 4,
   "metadata": {},
   "outputs": [],
   "source": [
    "import pandas as pd\n",
    "import requests\n",
    "from bs4 import BeautifulSoup"
   ]
  },
  {
   "cell_type": "code",
   "execution_count": 29,
   "metadata": {},
   "outputs": [
    {
     "name": "stdout",
     "output_type": "stream",
     "text": [
      "Today\n",
      "Sunny\n",
      "High: 77 °F\n"
     ]
    }
   ],
   "source": [
    "page = requests.get('https://forecast.weather.gov/MapClick.php?lat=41.65381000000008&lon=-83.53625999999997')\n",
    "soup = BeautifulSoup(page.content,'html.parser')\n",
    "#print(soup.prettify)\n",
    "item = soup.find_all(class_='forecast-tombstone')\n",
    "#print(item)\n",
    "item1 = soup.find_all(class_='tombstone-container')\n",
    "#print(item1).get_text()\n",
    "print(item1[0].find(class_='period-name').get_text())\n",
    "print(item1[0].find(class_='short-desc').get_text())\n",
    "print(item1[0].find(class_='temp').get_text())"
   ]
  },
  {
   "cell_type": "code",
   "execution_count": 39,
   "metadata": {},
   "outputs": [
    {
     "name": "stdout",
     "output_type": "stream",
     "text": [
      "['Today', 'Tonight', 'Thursday', 'ThursdayNight', 'Friday', 'FridayNight', 'Saturday', 'SaturdayNight', 'Sunday']\n",
      "['Sunny', 'Clear', 'Sunny', 'Clear', 'Sunny', 'Mostly Clear', 'Mostly Sunny', 'Partly Cloudy', 'Mostly Sunnythen ChanceT-storms']\n",
      "['High: 77 °F', 'Low: 56 °F', 'High: 81 °F', 'Low: 59 °F', 'High: 86 °F', 'Low: 63 °F', 'High: 88 °F', 'Low: 67 °F', 'High: 87 °F']\n"
     ]
    }
   ],
   "source": [
    "pn = [item.find(class_='period-name').get_text() for item in item1]\n",
    "print(pn)\n",
    "desc = [item.find(class_='short-desc').get_text() for item in item1]\n",
    "print(desc)\n",
    "tp = [item.find(class_='temp').get_text() for item in item1]\n",
    "print(tp)\n",
    "#for item in item1:\n",
    "    #period_names = [item.find(class_='period-name').get_text()]\n",
    "    #print(period_names)\n",
    "    #desc = [item.find(class_='short-desc').get_text()]\n",
    "    #print(desc)\n",
    "    #Temp = [item.find(class_='temp').get_text()]\n",
    "    #print(Temp)"
   ]
  },
  {
   "cell_type": "code",
   "execution_count": 44,
   "metadata": {},
   "outputs": [
    {
     "name": "stdout",
     "output_type": "stream",
     "text": [
      "          Period                short description  temperature\n",
      "0          Today                            Sunny  High: 77 °F\n",
      "1        Tonight                            Clear   Low: 56 °F\n",
      "2       Thursday                            Sunny  High: 81 °F\n",
      "3  ThursdayNight                            Clear   Low: 59 °F\n",
      "4         Friday                            Sunny  High: 86 °F\n",
      "5    FridayNight                     Mostly Clear   Low: 63 °F\n",
      "6       Saturday                     Mostly Sunny  High: 88 °F\n",
      "7  SaturdayNight                    Partly Cloudy   Low: 67 °F\n",
      "8         Sunday  Mostly Sunnythen ChanceT-storms  High: 87 °F\n"
     ]
    }
   ],
   "source": [
    "pnds = pd.DataFrame({\n",
    "    'Period' : pn,\n",
    "    'short description' : desc,\n",
    "    'temperature' : tp,\n",
    "})\n",
    "print(pnds)"
   ]
  },
  {
   "cell_type": "code",
   "execution_count": null,
   "metadata": {},
   "outputs": [],
   "source": []
  }
 ],
 "metadata": {
  "kernelspec": {
   "display_name": "Python 3",
   "language": "python",
   "name": "python3"
  },
  "language_info": {
   "codemirror_mode": {
    "name": "ipython",
    "version": 3
   },
   "file_extension": ".py",
   "mimetype": "text/x-python",
   "name": "python",
   "nbconvert_exporter": "python",
   "pygments_lexer": "ipython3",
   "version": "3.8.3"
  }
 },
 "nbformat": 4,
 "nbformat_minor": 4
}
